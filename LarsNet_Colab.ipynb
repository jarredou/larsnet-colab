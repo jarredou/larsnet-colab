{
  "cells": [
    {
      "cell_type": "markdown",
      "metadata": {},
      "source": [
        "LarsNet Colab adaptation\n",
        "Original work https://github.com/polimi-ispl/larsnet"
      ]
    },
    {
      "cell_type": "code",
      "execution_count": null,
      "metadata": {
        "cellView": "form",
        "id": "uxVxliiBLc4Z"
      },
      "outputs": [],
      "source": [
        "#@title Installation\n",
        "#@markdown This will take 10~15 minutes\n",
        "%cd /content\n",
        "from google.colab import drive\n",
        "drive.mount('/content/drive')\n",
        "!wget https://repo.anaconda.com/miniconda/Miniconda3-py310_23.11.0-1-Linux-x86_64.sh -O miniconda.sh\n",
        "!chmod +x miniconda.sh\n",
        "!bash miniconda.sh -b -f -p /usr/local/\n",
        "\n",
        "import sys\n",
        "sys.path.append(\"/usr/local/lib/python3.10/site-packages\")\n",
        "\n",
        "!conda install --channel defaults conda python=3.10 --yes\n",
        "#!conda update --channel defaults --all --yes\n",
        "!conda config --add channels bioconda\n",
        "!conda config --add channels conda-forge\n",
        "!conda config --add channels pytorch\n",
        "!conda config --add channels nvidia\n",
        "!conda update --all -y\n",
        "!git clone   https://github.com/jarredou/larsnet-colab\n",
        "!conda env update --file /content/larsnet-colab/env.yml --name larsnet\n",
        "%cd /content/larsnet-colab\n",
        "!gdown 1U8-5924B1ii1cjv9p0MTPzayb00P4qoL\n",
        "!unzip pretrained_larsnet_models.zip\n",
        "!rm -rf pretrained_larsnet_models.zip"
      ]
    },
    {
      "cell_type": "code",
      "execution_count": null,
      "metadata": {
        "cellView": "form",
        "id": "38VE-E8c3HyF"
      },
      "outputs": [],
      "source": [
        "#@title Inference\n",
        "%cd /content/larsnet-colab\n",
        "input_folder = '/content/drive/MyDrive/tmp' #@param {type:\"string\"}\n",
        "output_folder = '/content/drive/MyDrive/output' #@param {type:\"string\"}\n",
        "!source activate larsnet && python separate.py -d cuda -i {input_folder} -o {output_folder}"
      ]
    }
  ],
  "metadata": {
    "accelerator": "GPU",
    "colab": {
      "gpuType": "T4",
      "provenance": []
    },
    "kernelspec": {
      "display_name": "Python 3",
      "name": "python3"
    },
    "language_info": {
      "name": "python"
    }
  },
  "nbformat": 4,
  "nbformat_minor": 0
}
